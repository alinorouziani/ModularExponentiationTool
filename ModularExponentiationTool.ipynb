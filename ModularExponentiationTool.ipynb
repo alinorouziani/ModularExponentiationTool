{
  "nbformat": 4,
  "nbformat_minor": 0,
  "metadata": {
    "colab": {
      "provenance": [],
      "authorship_tag": "ABX9TyP4IasxZpv1tfbxqRpJY7W9",
      "include_colab_link": true
    },
    "kernelspec": {
      "name": "python3",
      "display_name": "Python 3"
    },
    "language_info": {
      "name": "python"
    }
  },
  "cells": [
    {
      "cell_type": "markdown",
      "metadata": {
        "id": "view-in-github",
        "colab_type": "text"
      },
      "source": [
        "<a href=\"https://colab.research.google.com/github/alinorouziani/ModularExponentiationTool/blob/main/ModularExponentiationTool.ipynb\" target=\"_parent\"><img src=\"https://colab.research.google.com/assets/colab-badge.svg\" alt=\"Open In Colab\"/></a>"
      ]
    },
    {
      "cell_type": "code",
      "execution_count": 1,
      "metadata": {
        "colab": {
          "base_uri": "https://localhost:8080/"
        },
        "id": "np62wmQpWf9q",
        "outputId": "6fef73aa-9549-40f4-db7a-cb73ec9cee3c"
      },
      "outputs": [
        {
          "output_type": "stream",
          "name": "stdout",
          "text": [
            "Enter the number: 250\n",
            "Enter the exponent: 3\n",
            "enter the modulus: 5\n",
            "250 ** 3 Mod 5 ≡ 0\n"
          ]
        }
      ],
      "source": [
        "def decimal_to_binary(decimal):\n",
        "    if decimal == 0:\n",
        "        return 0\n",
        "\n",
        "    binary = 0\n",
        "    power = 0\n",
        "    while decimal > 0:\n",
        "        binary += (decimal % 2) * (10 ** power)\n",
        "        decimal //= 2\n",
        "        power += 1\n",
        "\n",
        "    return binary\n",
        "\n",
        "number = int(input(\"Enter the number: \"))\n",
        "powNumber= int(input(\"Enter the exponent: \"))\n",
        "modNumber= int(input(\"enter the modulus: \"))\n",
        "y=number\n",
        "x=decimal_to_binary(powNumber)\n",
        "modAll = 1\n",
        "p=1\n",
        "lastdigit = 0\n",
        "\n",
        "while x > 0:\n",
        "    lastdigit = x % 10\n",
        "    x //= 10\n",
        "    if lastdigit ==1:\n",
        "        number = number ** p\n",
        "        mod = number % modNumber\n",
        "        modAll *= mod\n",
        "    p*=2\n",
        "\n",
        "result = modAll % modNumber\n",
        "print(y, \"**\", powNumber, \"Mod\", modNumber, \"≡\", result)"
      ]
    },
    {
      "cell_type": "code",
      "source": [],
      "metadata": {
        "id": "vnHwd9N7X_hb"
      },
      "execution_count": null,
      "outputs": []
    }
  ]
}